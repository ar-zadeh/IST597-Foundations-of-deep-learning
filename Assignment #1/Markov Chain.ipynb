{
 "cells": [
  {
   "cell_type": "code",
   "execution_count": 23,
   "metadata": {},
   "outputs": [],
   "source": [
    "import numpy as np"
   ]
  },
  {
   "cell_type": "markdown",
   "metadata": {},
   "source": [
    "Defining the probability matrix using the figure from the question  where $P_{ij}$ is the number one the arrow starting from node i pointing at node j. If there is no arrow, $P_{ij}$ is zero"
   ]
  },
  {
   "cell_type": "code",
   "execution_count": null,
   "metadata": {},
   "outputs": [],
   "source": [
    "P=[[0,0.23,0,0.77,0,0],[0.09,0,0.06,0,0,0.85],[0,0,0,0.63,0,0.37],[0,0,0,0,0.65,0.35],[0,0,0,0,0,1],[0,.62,0,0,0.38,0]]"
   ]
  },
  {
   "cell_type": "markdown",
   "metadata": {},
   "source": [
    "In order to use numpy and the matrix capabilities, we turn the list into numpy array"
   ]
  },
  {
   "cell_type": "code",
   "execution_count": 68,
   "metadata": {},
   "outputs": [],
   "source": [
    "P=np.asarray(P)"
   ]
  },
  {
   "cell_type": "markdown",
   "metadata": {},
   "source": [
    "There exist 2 point of view to solve this problem:\n",
    "\n",
    "1) taking the row S and multiply it to P, T times which gives a vector that its Fth value is the answer\n",
    "\n",
    "2) multiplying P to itself for T times which gives an N*N matirix which the Sth row and Fth column is the solution\n",
    "\n",
    "*note: In this discribtion we started counting the rows and columns from one where as numpy counts both of them from zero"
   ]
  },
  {
   "cell_type": "code",
   "execution_count": 34,
   "metadata": {},
   "outputs": [],
   "source": [
    "def state(P,S,T,F):\n",
    "    probs=P[S-1]\n",
    "    for i in range(T):\n",
    "        probs=np.matmul(probs,P)\n",
    "    return probs[F]"
   ]
  },
  {
   "cell_type": "code",
   "execution_count": 77,
   "metadata": {},
   "outputs": [],
   "source": [
    "def statePrime(P,S,T,F):\n",
    "    Q=P\n",
    "    for i in range(T):\n",
    "        P=np.matmul(P,Q)\n",
    "    return P[S-1][F]"
   ]
  },
  {
   "cell_type": "code",
   "execution_count": 78,
   "metadata": {},
   "outputs": [
    {
     "data": {
      "text/plain": [
       "0.02456874"
      ]
     },
     "execution_count": 78,
     "metadata": {},
     "output_type": "execute_result"
    }
   ],
   "source": [
    "statePrime(P,2,3,3)"
   ]
  },
  {
   "cell_type": "code",
   "execution_count": 79,
   "metadata": {},
   "outputs": [
    {
     "data": {
      "text/plain": [
       "0.02456874"
      ]
     },
     "execution_count": 79,
     "metadata": {},
     "output_type": "execute_result"
    }
   ],
   "source": [
    "state(P,2,3,3)"
   ]
  },
  {
   "cell_type": "markdown",
   "metadata": {},
   "source": [
    "As it can be seen both solution give back the same correct answer we expect"
   ]
  },
  {
   "cell_type": "code",
   "execution_count": null,
   "metadata": {},
   "outputs": [],
   "source": []
  }
 ],
 "metadata": {
  "kernelspec": {
   "display_name": "Python 3",
   "language": "python",
   "name": "python3"
  },
  "language_info": {
   "codemirror_mode": {
    "name": "ipython",
    "version": 3
   },
   "file_extension": ".py",
   "mimetype": "text/x-python",
   "name": "python",
   "nbconvert_exporter": "python",
   "pygments_lexer": "ipython3",
   "version": "3.7.3"
  }
 },
 "nbformat": 4,
 "nbformat_minor": 2
}
