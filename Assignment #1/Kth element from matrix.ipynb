{
 "cells": [
  {
   "cell_type": "code",
   "execution_count": 100,
   "metadata": {},
   "outputs": [],
   "source": [
    "import numpy as np"
   ]
  },
  {
   "cell_type": "code",
   "execution_count": 101,
   "metadata": {},
   "outputs": [],
   "source": [
    "# calculates the probability of each element in each row\n",
    "def prob(M):\n",
    "    X=list()\n",
    "    X[:]=[(x/(sum(M))) for x in M]\n",
    "    return X"
   ]
  },
  {
   "cell_type": "code",
   "execution_count": 102,
   "metadata": {},
   "outputs": [],
   "source": [
    "# adds two rows togther\n",
    "def add(M,V):\n",
    "    T=list()\n",
    "    T[:]=[sum(x) for x in zip(M, prob(V))]\n",
    "    return T"
   ]
  },
  {
   "cell_type": "code",
   "execution_count": 103,
   "metadata": {},
   "outputs": [],
   "source": [
    "# calculates the probability of getting the Kth element\n",
    "def finalprob(M,k):\n",
    "    for i in range(1,len(M)):\n",
    "        print('m',i,'is',M[i],'and','m',i-1,'is',M[i-1])\n",
    "        M[i]=add(M[i],M[i-1])\n",
    "        print('m',i,'is',M[i],'and','m',i-1,'is',M[i-1])\n",
    "    print(M)\n",
    "    return prob(M[len(M)-1])[k-1]"
   ]
  },
  {
   "cell_type": "code",
   "execution_count": null,
   "metadata": {},
   "outputs": [],
   "source": []
  }
 ],
 "metadata": {
  "kernelspec": {
   "display_name": "Python 3",
   "language": "python",
   "name": "python3"
  },
  "language_info": {
   "codemirror_mode": {
    "name": "ipython",
    "version": 3
   },
   "file_extension": ".py",
   "mimetype": "text/x-python",
   "name": "python",
   "nbconvert_exporter": "python",
   "pygments_lexer": "ipython3",
   "version": "3.7.3"
  }
 },
 "nbformat": 4,
 "nbformat_minor": 2
}
