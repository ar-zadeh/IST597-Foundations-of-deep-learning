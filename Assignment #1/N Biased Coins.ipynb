{
 "cells": [
  {
   "cell_type": "markdown",
   "metadata": {},
   "source": [
    "# Importing required libraries"
   ]
  },
  {
   "cell_type": "code",
   "execution_count": 42,
   "metadata": {},
   "outputs": [],
   "source": [
    "import numpy as np\n",
    "import math\n",
    "import itertools"
   ]
  },
  {
   "cell_type": "markdown",
   "metadata": {},
   "source": [
    "# Defining new functions"
   ]
  },
  {
   "cell_type": "markdown",
   "metadata": {},
   "source": [
    "multiplySet is a function that recieves a set or list and then returns the multiply of its elements"
   ]
  },
  {
   "cell_type": "code",
   "execution_count": 43,
   "metadata": {},
   "outputs": [],
   "source": [
    "def multiplyList(Set) :    \n",
    "    # Multiply elements one by one \n",
    "    result = 1\n",
    "    for x in Set: \n",
    "         result = result * x  \n",
    "    return result  "
   ]
  },
  {
   "cell_type": "markdown",
   "metadata": {},
   "source": [
    "find subset recieves a set and a number and then returns all possible \"m member combinations\" of the set in another set"
   ]
  },
  {
   "cell_type": "code",
   "execution_count": 44,
   "metadata": {},
   "outputs": [],
   "source": [
    "def findsubsets(S,m):\n",
    "    return (itertools.combinations(S, m))\n",
    "# S: The set for which you want to find subsets\n",
    "# m: The number of elements in the subset"
   ]
  },
  {
   "cell_type": "code",
   "execution_count": 45,
   "metadata": {},
   "outputs": [
    {
     "name": "stdout",
     "output_type": "stream",
     "text": [
      "[(0.5, 0.6), (0.5, 0.7), (0.6, 0.7)]\n"
     ]
    }
   ],
   "source": [
    "i=list(findsubsets([.5,.6,.7],2))\n",
    "print(i)"
   ]
  },
  {
   "cell_type": "code",
   "execution_count": 46,
   "metadata": {},
   "outputs": [],
   "source": [
    "def substraction(a,b):\n",
    "    temp=a[:]\n",
    "    for x in b:\n",
    "          if x in temp:\n",
    "                temp.remove(x)\n",
    "    return temp"
   ]
  },
  {
   "cell_type": "code",
   "execution_count": 47,
   "metadata": {},
   "outputs": [
    {
     "data": {
      "text/plain": [
       "[0.5]"
      ]
     },
     "execution_count": 47,
     "metadata": {},
     "output_type": "execute_result"
    }
   ],
   "source": [
    "i=substraction([0.5,0.5 , 0.55],[0.5,0.55])\n",
    "i"
   ]
  },
  {
   "cell_type": "code",
   "execution_count": 48,
   "metadata": {},
   "outputs": [],
   "source": [
    "def compliment(P):\n",
    "    comp={}\n",
    "    for probs in P:\n",
    "        comp.appned(probs)\n",
    "    return comp"
   ]
  },
  {
   "cell_type": "markdown",
   "metadata": {},
   "source": [
    "# Calcuating the probability of \"heads more than tails\""
   ]
  },
  {
   "cell_type": "markdown",
   "metadata": {},
   "source": [
    "In this part N and P will be recieved from the user. If not the function generate both of them and the value for N is garanteed to always be odd and its between 1 and 5"
   ]
  },
  {
   "cell_type": "code",
   "execution_count": 51,
   "metadata": {},
   "outputs": [],
   "source": [
    "\n",
    "\n",
    "def calculator(N=2*np.int((5*np.random.rand()))+1,P=None ):\n",
    "    if P == None:\n",
    "        P = [np.random.rand() for i in range(N)] # Generates probability\n",
    "    print('P=',P)\n",
    "#     print('len is',len(P))\n",
    "#     print('====================================')\n",
    "    sum_of_probs=0\n",
    "    for i in range(int((len(P)+1)/2),len(P)+1):\n",
    "        for members in findsubsets(P,i):\n",
    "            heads=[j for j in members] # seperates the heads\n",
    "#             print(\"heads' probs\",heads)\n",
    "            tails = substraction(P,heads) # Seperates the tails\n",
    "            tails[:] = [1 - x for x in tails] # calculates the probability of tails\n",
    "#             print(\"tails' probs\",tails)\n",
    "#             print(\"=================\")\n",
    "            sumation=multiplyList(heads)*multiplyList(tails) # multiplys the prob of heads to tails\n",
    "            print(sumation)\n",
    "            sum_of_probs+=multiplyList(heads)*multiplyList(tails)  #every time add the probability of that accurance to the ones before\n",
    "    print('the final answer is:',sum_of_probs)\n",
    "    return(sum_of_probs)"
   ]
  },
  {
   "cell_type": "code",
   "execution_count": 52,
   "metadata": {},
   "outputs": [
    {
     "name": "stdout",
     "output_type": "stream",
     "text": [
      "P= [0.7174773253614413, 0.44152893797912984, 0.8930145121755252]\n",
      "0.033891611890961244\n",
      "0.3578222741046655\n",
      "0.11139635956082783\n",
      "0.2828953895999825\n",
      "the final answer is: 0.7860056351564371\n"
     ]
    },
    {
     "data": {
      "text/plain": [
       "0.7860056351564371"
      ]
     },
     "execution_count": 52,
     "metadata": {},
     "output_type": "execute_result"
    }
   ],
   "source": [
    "calculator()"
   ]
  },
  {
   "cell_type": "code",
   "execution_count": null,
   "metadata": {},
   "outputs": [],
   "source": []
  },
  {
   "cell_type": "code",
   "execution_count": null,
   "metadata": {},
   "outputs": [],
   "source": []
  }
 ],
 "metadata": {
  "kernelspec": {
   "display_name": "Python 3",
   "language": "python",
   "name": "python3"
  },
  "language_info": {
   "codemirror_mode": {
    "name": "ipython",
    "version": 3
   },
   "file_extension": ".py",
   "mimetype": "text/x-python",
   "name": "python",
   "nbconvert_exporter": "python",
   "pygments_lexer": "ipython3",
   "version": "3.7.3"
  }
 },
 "nbformat": 4,
 "nbformat_minor": 2
}
