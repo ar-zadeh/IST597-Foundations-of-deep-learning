{
  "nbformat": 4,
  "nbformat_minor": 0,
  "metadata": {
    "colab": {
      "name": "random forest and SVM.ipynb",
      "provenance": []
    },
    "kernelspec": {
      "name": "python3",
      "display_name": "Python 3"
    }
  },
  "cells": [
    {
      "cell_type": "code",
      "metadata": {
        "id": "5Gie7ag-wv-A",
        "colab_type": "code",
        "colab": {
          "base_uri": "https://localhost:8080/",
          "height": 84
        },
        "outputId": "8498b78a-4470-4d1c-e79d-5f7a962fcfa2"
      },
      "source": [
        "from tensorflow.examples.tutorials.mnist import input_data\n",
        "train, val, test = input_data.read_data_sets('data/fashion', source_url='http://fashion-mnist.s3-website.eu-central-1.amazonaws.com/',one_hot=True)\n",
        "from sklearn.ensemble import RandomForestClassifier\n",
        "from sklearn.metrics import accuracy_score"
      ],
      "execution_count": 9,
      "outputs": [
        {
          "output_type": "stream",
          "text": [
            "Extracting data/fashion/train-images-idx3-ubyte.gz\n",
            "Extracting data/fashion/train-labels-idx1-ubyte.gz\n",
            "Extracting data/fashion/t10k-images-idx3-ubyte.gz\n",
            "Extracting data/fashion/t10k-labels-idx1-ubyte.gz\n"
          ],
          "name": "stdout"
        }
      ]
    },
    {
      "cell_type": "code",
      "metadata": {
        "id": "hfdoUKUqxMrY",
        "colab_type": "code",
        "colab": {
          "base_uri": "https://localhost:8080/",
          "height": 396
        },
        "outputId": "bb0c24df-c15a-4075-b1c8-ea67075f8fa0"
      },
      "source": [
        "accuracy=[]\n",
        "for i in range(1,10):\n",
        "\n",
        "  clf = RandomForestClassifier(n_estimators=10*i,max_depth=15)\n",
        "\n",
        "  train_x = train.images\n",
        "  train_y = train.labels\n",
        "\n",
        "  print(f\"Train model with {i} tree\")\n",
        "  clf.fit(train_x, train_y)\n",
        "  predicted = clf.predict(val.images)\n",
        "  accuracy.append(accuracy_score(val.labels,predicted))\n",
        "print(accuracy)\n",
        "\n"
      ],
      "execution_count": 13,
      "outputs": [
        {
          "output_type": "stream",
          "text": [
            "Train model with 1 tree\n",
            "Train model with 2 tree\n",
            "Train model with 3 tree\n",
            "Train model with 4 tree\n",
            "Train model with 5 tree\n",
            "Train model with 6 tree\n",
            "Train model with 7 tree\n",
            "Train model with 8 tree\n",
            "Train model with 9 tree\n",
            "[0.8092, 0.8148, 0.8166, 0.8152, 0.8186, 0.8202, 0.816, 0.816, 0.8188]\n"
          ],
          "name": "stdout"
        },
        {
          "output_type": "error",
          "ename": "TypeError",
          "evalue": "ignored",
          "traceback": [
            "\u001b[0;31m---------------------------------------------------------------------------\u001b[0m",
            "\u001b[0;31mTypeError\u001b[0m                                 Traceback (most recent call last)",
            "\u001b[0;32m<ipython-input-13-b2e1a6e327fc>\u001b[0m in \u001b[0;36m<module>\u001b[0;34m()\u001b[0m\n\u001b[1;32m     13\u001b[0m \u001b[0mprint\u001b[0m\u001b[0;34m(\u001b[0m\u001b[0maccuracy\u001b[0m\u001b[0;34m)\u001b[0m\u001b[0;34m\u001b[0m\u001b[0;34m\u001b[0m\u001b[0m\n\u001b[1;32m     14\u001b[0m \u001b[0maccuracy\u001b[0m \u001b[0;34m=\u001b[0m \u001b[0mnp\u001b[0m\u001b[0;34m.\u001b[0m\u001b[0masarray\u001b[0m\u001b[0;34m(\u001b[0m\u001b[0maccuracy\u001b[0m\u001b[0;34m)\u001b[0m\u001b[0;34m\u001b[0m\u001b[0;34m\u001b[0m\u001b[0m\n\u001b[0;32m---> 15\u001b[0;31m \u001b[0mclf\u001b[0m\u001b[0;34m=\u001b[0m \u001b[0mRandomForestClassifier\u001b[0m\u001b[0;34m(\u001b[0m\u001b[0mn_estimator\u001b[0m \u001b[0;34m=\u001b[0m \u001b[0mnp\u001b[0m\u001b[0;34m.\u001b[0m\u001b[0margmax\u001b[0m\u001b[0;34m(\u001b[0m\u001b[0maccuracy\u001b[0m\u001b[0;34m)\u001b[0m\u001b[0;34m,\u001b[0m \u001b[0mmax_depth\u001b[0m\u001b[0;34m=\u001b[0m \u001b[0;36m15\u001b[0m\u001b[0;34m)\u001b[0m\u001b[0;34m\u001b[0m\u001b[0;34m\u001b[0m\u001b[0m\n\u001b[0m\u001b[1;32m     16\u001b[0m \u001b[0;34m\u001b[0m\u001b[0m\n\u001b[1;32m     17\u001b[0m \u001b[0;34m\u001b[0m\u001b[0m\n",
            "\u001b[0;31mTypeError\u001b[0m: __init__() got an unexpected keyword argument 'n_estimator'"
          ]
        }
      ]
    },
    {
      "cell_type": "code",
      "metadata": {
        "id": "xynl3Rbp1hPG",
        "colab_type": "code",
        "colab": {
          "base_uri": "https://localhost:8080/",
          "height": 67
        },
        "outputId": "10e37751-a59b-4246-85fc-b675da4f4e74"
      },
      "source": [
        "accuracy = np.asarray(accuracy)\n",
        "clf= RandomForestClassifier(n_estimators = 10*np.argmax(accuracy), max_depth= 15)\n",
        "\n",
        "train_x = train.images\n",
        "train_y = train.labels\n",
        "clf.fit(train_x, train_y)\n",
        "\n",
        "\n",
        "print(\"Compute predictions\")\n",
        "predicted = clf.predict(test.images)\n",
        "\n",
        "print(\"Accuracy: \", accuracy_score(test.labels, predicted))\n"
      ],
      "execution_count": 18,
      "outputs": [
        {
          "output_type": "stream",
          "text": [
            "5\n",
            "Compute predictions\n",
            "Accuracy:  0.801\n"
          ],
          "name": "stdout"
        }
      ]
    },
    {
      "cell_type": "code",
      "metadata": {
        "id": "cWOTmdDwz9yU",
        "colab_type": "code",
        "colab": {}
      },
      "source": [
        "from sklearn.svm import LinearSVC\n",
        "from sklearn.metrics import accuracy_score\n",
        "svm = LinearSVC()"
      ],
      "execution_count": 0,
      "outputs": []
    },
    {
      "cell_type": "code",
      "metadata": {
        "id": "gCai92FPzLRl",
        "colab_type": "code",
        "colab": {}
      },
      "source": [
        "\n",
        "\n",
        "train_x = train.images\n",
        "train_y = train.labels\n",
        "\n",
        "print(\"Train model\")\n",
        "svm.fit(train_x, train_y)\n",
        "\n",
        "\n",
        "test_x = test.images\n",
        "expected = test.labels\n",
        "\n",
        "print(\"Compute predictions\")\n",
        "predicted = svm.predict(test_x)\n",
        "\n",
        "print(\"Accuracy: \", accuracy_score(expected, predicted))"
      ],
      "execution_count": 0,
      "outputs": []
    },
    {
      "cell_type": "code",
      "metadata": {
        "id": "CdlNeukp0NHk",
        "colab_type": "code",
        "colab": {}
      },
      "source": [
        ""
      ],
      "execution_count": 0,
      "outputs": []
    }
  ]
}